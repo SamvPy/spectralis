{
 "cells": [
  {
   "cell_type": "code",
   "execution_count": 1,
   "id": "11d4c6e0-a17a-4336-b646-1f67b3ee7988",
   "metadata": {
    "tags": []
   },
   "outputs": [],
   "source": [
    "import sys\n",
    "import os\n"
   ]
  },
  {
   "cell_type": "code",
   "execution_count": 2,
   "id": "900f1bd6-44a9-4088-8541-dceca682a1b4",
   "metadata": {
    "tags": []
   },
   "outputs": [],
   "source": [
    "from spectralis.spectralis_master import Spectralis"
   ]
  },
  {
   "cell_type": "code",
   "execution_count": null,
   "id": "9661fa24-e383-4596-b347-d0ed22b307b5",
   "metadata": {},
   "outputs": [],
   "source": [
    "config_path = ''\n",
    "input_path = ''"
   ]
  },
  {
   "cell_type": "code",
   "execution_count": null,
   "id": "7849ed14-f01b-450f-91eb-49eae71a1f9a",
   "metadata": {},
   "outputs": [],
   "source": [
    "spectralis = Spectralis(config_path)\n",
    "\n",
    "df_out = spectralis.rescoring_from_csv(input_path=path,\n",
    "                           peptide_col='peptide_mq', precursor_z_col='charge', prosit_ce=prosit_ce, \n",
    "                           exp_mzs_col='exp_mzs', exp_ints_col='exp_ints', precursor_mz_col='prec_mz', return_features=False)"
   ]
  }
 ],
 "metadata": {
  "kernelspec": {
   "display_name": "Python [conda env:anaconda-denovo_GA]",
   "language": "python",
   "name": "conda-env-anaconda-denovo_GA-py"
  },
  "language_info": {
   "codemirror_mode": {
    "name": "ipython",
    "version": 3
   },
   "file_extension": ".py",
   "mimetype": "text/x-python",
   "name": "python",
   "nbconvert_exporter": "python",
   "pygments_lexer": "ipython3",
   "version": "3.7.12"
  }
 },
 "nbformat": 4,
 "nbformat_minor": 5
}
